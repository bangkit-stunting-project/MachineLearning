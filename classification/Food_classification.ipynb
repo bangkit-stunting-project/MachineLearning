{
 "cells": [
  {
   "cell_type": "markdown",
   "id": "a3922d3f",
   "metadata": {},
   "source": [
    "# Import Library"
   ]
  },
  {
   "cell_type": "code",
   "execution_count": 104,
   "id": "e07cabd7",
   "metadata": {},
   "outputs": [],
   "source": [
    "import os\n",
    "import random\n",
    "import tensorflow as tf\n",
    "from tensorflow.keras.optimizers import RMSprop\n",
    "from tensorflow.keras.preprocessing.image import ImageDataGenerator"
   ]
  },
  {
   "cell_type": "markdown",
   "id": "af734c93",
   "metadata": {},
   "source": [
    "# Prepocessing"
   ]
  },
  {
   "cell_type": "markdown",
   "id": "f852f113",
   "metadata": {},
   "source": [
    "## Data Initiations "
   ]
  },
  {
   "cell_type": "code",
   "execution_count": 105,
   "id": "aff1d917",
   "metadata": {},
   "outputs": [
    {
     "name": "stdout",
     "output_type": "stream",
     "text": [
      "['Ayam Goreng Kentucky', 'Bakso', 'Beef Burger', 'Bubur Ayam', 'Bubur Kacang Hijau', 'Gado-Gado', 'Kalio Ayam', 'Karedok', 'Ketoprak', 'Martabak Mesir', 'Mie Aceh Rebus', 'Mie Ayam', 'Mie Pangsit Basah', 'Nasi Ayam Goreng', 'Nasi Ayam Taliwang', 'Nasi Ayam Teriyaki', 'Nasi Gulai Ikan', 'Nasi Ikan Sarden', 'Nasi Rames', 'Nasi Rendang', 'Pempek Telur', 'Rendang Sapi', 'Siomay', 'SOp Daging Sapi', 'Soto Betawi', 'Soto Padang']\n"
     ]
    }
   ],
   "source": [
    "path_file = os.listdir('../scrapping/downloads')\n",
    "print(path_file)"
   ]
  },
  {
   "cell_type": "code",
   "execution_count": 106,
   "id": "fe25a23f",
   "metadata": {},
   "outputs": [
    {
     "data": {
      "image/png": "[encoded data removed]",
      "text/plain": [
       "<Figure size 432x288 with 1 Axes>"
      ]
     },
     "metadata": {
      "needs_background": "light"
     },
     "output_type": "display_data"
    }
   ],
   "source": [
    "langs = []\n",
    "qty = []\n",
    "\n",
    "for x in path_file:\n",
    "    langs.append(x)\n",
    "    qty.append(len('path_file' + x))\n",
    "    \n",
    "import matplotlib.pyplot as plt\n",
    "fig = plt.figure()\n",
    "ax = fig.add_axes([0,0,1,1])\n",
    "langs = langs\n",
    "qty = qty\n",
    "ax.bar(langs,qty)\n",
    "plt.show()"
   ]
  },
  {
   "cell_type": "markdown",
   "id": "8205e4df",
   "metadata": {},
   "source": [
    "## Split Dataset"
   ]
  },
  {
   "cell_type": "code",
   "execution_count": 107,
   "id": "56d41aa0",
   "metadata": {},
   "outputs": [],
   "source": [
    "os.mkdir('../scrapping/dataset_ml')\n",
    "os.mkdir('../scrapping/dataset_ml/training')\n",
    "os.mkdir('../scrapping/dataset_ml/testing')\n",
    "    \n",
    "for x in os.listdir('../scrapping/downloads'):\n",
    "    os.mkdir('../scrapping/dataset_ml/training/' + x)\n",
    "    os.mkdir('../scrapping/dataset_ml/testing/' + x)"
   ]
  },
  {
   "cell_type": "code",
   "execution_count": 108,
   "id": "b39b1032",
   "metadata": {},
   "outputs": [],
   "source": [
    "def split_data(SOURCE, TRAINING, TESTING, SPLIT_SIZE):\n",
    "    files = list()\n",
    "    for fname in os.listdir(SOURCE):\n",
    "        f = SOURCE + fname\n",
    "        if os.path.getsize(f) > 0:\n",
    "            files.append(fname)\n",
    "\n",
    "    training_length = int(len(files) * SPLIT_SIZE)\n",
    "    testing_length = int(len(files) - training_length)\n",
    "    shuffled = random.sample(files, len(files))\n",
    "    training_set = shuffled[0:training_length]\n",
    "    testing_set = shuffled[:testing_length]\n",
    "\n",
    "    for fname in training_set:\n",
    "        tfile = SOURCE + fname\n",
    "        destin = TRAINING + fname\n",
    "        copyfile(tfile, destin)\n",
    "        \n",
    "    for fname in testing_set:\n",
    "        tfile = SOURCE + fname\n",
    "        destin = TESTING + fname\n",
    "        copyfile(tfile, destin)\n",
    "\n",
    "split_size = .9\n",
    "\n",
    "for x in os.listdir('../scrapping/downloads'):\n",
    "    split_data('../scrapping/downloads/' + x + '/', '../scrapping/dataset_ml/training/' + x + '/', '../scrapping/dataset_ml/testing/' + x + '/', split_size)"
   ]
  },
  {
   "cell_type": "code",
   "execution_count": 109,
   "id": "5f1f0ec0",
   "metadata": {},
   "outputs": [
    {
     "name": "stdout",
     "output_type": "stream",
     "text": [
      "name: Ayam Goreng Kentucky\n",
      "train: 90\n",
      "test 11\n",
      "---------------------------------------------------------\n",
      "name: Bakso\n",
      "train: 90\n",
      "test 11\n",
      "---------------------------------------------------------\n",
      "name: Beef Burger\n",
      "train: 89\n",
      "test 10\n",
      "---------------------------------------------------------\n",
      "name: Bubur Ayam\n",
      "train: 90\n",
      "test 11\n",
      "---------------------------------------------------------\n",
      "name: Bubur Kacang Hijau\n",
      "train: 90\n",
      "test 10\n",
      "---------------------------------------------------------\n",
      "name: Gado-Gado\n",
      "train: 90\n",
      "test 10\n",
      "---------------------------------------------------------\n",
      "name: Kalio Ayam\n",
      "train: 90\n",
      "test 10\n",
      "---------------------------------------------------------\n",
      "name: Karedok\n",
      "train: 90\n",
      "test 10\n",
      "---------------------------------------------------------\n",
      "name: Ketoprak\n",
      "train: 89\n",
      "test 10\n",
      "---------------------------------------------------------\n",
      "name: Martabak Mesir\n",
      "train: 89\n",
      "test 10\n",
      "---------------------------------------------------------\n",
      "name: Mie Aceh Rebus\n",
      "train: 89\n",
      "test 10\n",
      "---------------------------------------------------------\n",
      "name: Mie Ayam\n",
      "train: 88\n",
      "test 10\n",
      "---------------------------------------------------------\n",
      "name: Mie Pangsit Basah\n",
      "train: 89\n",
      "test 10\n",
      "---------------------------------------------------------\n",
      "name: Nasi Ayam Goreng\n",
      "train: 86\n",
      "test 10\n",
      "---------------------------------------------------------\n",
      "name: Nasi Ayam Taliwang\n",
      "train: 90\n",
      "test 10\n",
      "---------------------------------------------------------\n",
      "name: Nasi Ayam Teriyaki\n",
      "train: 88\n",
      "test 10\n",
      "---------------------------------------------------------\n",
      "name: Nasi Gulai Ikan\n",
      "train: 90\n",
      "test 11\n",
      "---------------------------------------------------------\n",
      "name: Nasi Ikan Sarden\n",
      "train: 90\n",
      "test 10\n",
      "---------------------------------------------------------\n",
      "name: Nasi Rames\n",
      "train: 88\n",
      "test 10\n",
      "---------------------------------------------------------\n",
      "name: Nasi Rendang\n",
      "train: 84\n",
      "test 10\n",
      "---------------------------------------------------------\n",
      "name: Pempek Telur\n",
      "train: 89\n",
      "test 10\n",
      "---------------------------------------------------------\n",
      "name: Rendang Sapi\n",
      "train: 90\n",
      "test 11\n",
      "---------------------------------------------------------\n",
      "name: Siomay\n",
      "train: 89\n",
      "test 10\n",
      "---------------------------------------------------------\n",
      "name: SOp Daging Sapi\n",
      "train: 90\n",
      "test 11\n",
      "---------------------------------------------------------\n",
      "name: Soto Betawi\n",
      "train: 89\n",
      "test 10\n",
      "---------------------------------------------------------\n",
      "name: Soto Padang\n",
      "train: 90\n",
      "test 10\n",
      "---------------------------------------------------------\n"
     ]
    }
   ],
   "source": [
    "for x in os.listdir('../scrapping/dataset_ml/training'):\n",
    "    print('name:', x)\n",
    "    print('train:', len(os.listdir('../scrapping/dataset_ml/training/'+ x + '/')))\n",
    "    print('test', len(os.listdir('../scrapping/dataset_ml/testing/'+ x + '/')))\n",
    "    print('---------------------------------------------------------')"
   ]
  },
  {
   "cell_type": "markdown",
   "id": "8e8e7048",
   "metadata": {},
   "source": [
    "# Model CNN"
   ]
  },
  {
   "cell_type": "code",
   "execution_count": 110,
   "id": "9ebb4f03",
   "metadata": {},
   "outputs": [
    {
     "name": "stdout",
     "output_type": "stream",
     "text": [
      "Model: \"sequential_3\"\n",
      "_________________________________________________________________\n",
      " Layer (type)                Output Shape              Param #   \n",
      "=================================================================\n",
      " conv2d_9 (Conv2D)           (None, 148, 148, 16)      448       \n",
      "                                                                 \n",
      " max_pooling2d_9 (MaxPooling  (None, 74, 74, 16)       0         \n",
      " 2D)                                                             \n",
      "                                                                 \n",
      " conv2d_10 (Conv2D)          (None, 72, 72, 32)        4640      \n",
      "                                                                 \n",
      " max_pooling2d_10 (MaxPoolin  (None, 36, 36, 32)       0         \n",
      " g2D)                                                            \n",
      "                                                                 \n",
      " conv2d_11 (Conv2D)          (None, 34, 34, 64)        18496     \n",
      "                                                                 \n",
      " max_pooling2d_11 (MaxPoolin  (None, 17, 17, 64)       0         \n",
      " g2D)                                                            \n",
      "                                                                 \n",
      " flatten_3 (Flatten)         (None, 18496)             0         \n",
      "                                                                 \n",
      " dense_6 (Dense)             (None, 512)               9470464   \n",
      "                                                                 \n",
      " dense_7 (Dense)             (None, 26)                13338     \n",
      "                                                                 \n",
      "=================================================================\n",
      "Total params: 9,507,386\n",
      "Trainable params: 9,507,386\n",
      "Non-trainable params: 0\n",
      "_________________________________________________________________\n"
     ]
    }
   ],
   "source": [
    "# DEFINE A KERAS MODEL TO CLASSIFY\n",
    "model = tf.keras.models.Sequential([\n",
    "    tf.keras.layers.Conv2D(16, (3,3), activation='relu', input_shape=(150,150, 3)),\n",
    "    tf.keras.layers.MaxPooling2D(2,2),\n",
    "    tf.keras.layers.Conv2D(32, (3,3), activation='relu'),\n",
    "    tf.keras.layers.MaxPooling2D(2,2),\n",
    "    tf.keras.layers.Conv2D(64, (3,3), activation='relu'),\n",
    "    tf.keras.layers.MaxPooling2D(2,2),\n",
    "    tf.keras.layers.Flatten(),\n",
    "    tf.keras.layers.Dense(512, activation='relu'),\n",
    "    tf.keras.layers.Dense(26, activation='softmax')\n",
    "])\n",
    "\n",
    "model.compile(optimizer='rmsprop',\n",
    "              loss='categorical_crossentropy',\n",
    "              metrics=['accuracy'])\n",
    "model.summary()"
   ]
  },
  {
   "cell_type": "markdown",
   "id": "98bcdb74",
   "metadata": {},
   "source": [
    "## ImageDataGenerator"
   ]
  },
  {
   "cell_type": "code",
   "execution_count": 111,
   "id": "cb9de85d",
   "metadata": {},
   "outputs": [
    {
     "name": "stdout",
     "output_type": "stream",
     "text": [
      "Found 2316 images belonging to 26 classes.\n",
      "Found 266 images belonging to 26 classes.\n"
     ]
    }
   ],
   "source": [
    "from keras_preprocessing.image import ImageDataGenerator\n",
    "\n",
    "TRAINING_DIR = '../scrapping/dataset_ml/training'\n",
    "train_datagen = ImageDataGenerator(\n",
    "    rescale = 1/255,\n",
    "    rotation_range = 40,\n",
    "    width_shift_range = 0.2,\n",
    "    height_shift_range = 0.2,\n",
    "    shear_range = 0.2,\n",
    "    zoom_range = 0.2,\n",
    "    horizontal_flip = True,\n",
    "    fill_mode = 'nearest'\n",
    ")\n",
    "\n",
    "# TRAIN GENERATOR.\n",
    "train_generator = train_datagen.flow_from_directory(\n",
    "    TRAINING_DIR,\n",
    "    batch_size = 26,\n",
    "    target_size = (150,150),\n",
    "    class_mode = 'categorical' \n",
    ")\n",
    "\n",
    "VALIDATION_DIR = '../scrapping/dataset_ml/testing'\n",
    "validation_datagen = ImageDataGenerator(\n",
    "    rescale = 1/255,\n",
    "    rotation_range = 40,\n",
    "    width_shift_range = 0.2,\n",
    "    height_shift_range = 0.2,\n",
    "    shear_range = 0.2,\n",
    "    zoom_range = 0.2,\n",
    "    horizontal_flip = True,\n",
    "    fill_mode = 'nearest'\n",
    ")\n",
    "\n",
    "# VALIDATION GENERATOR.\n",
    "validation_generator = validation_datagen.flow_from_directory(\n",
    "    VALIDATION_DIR,\n",
    "    batch_size = 26,\n",
    "    target_size = (150,150),\n",
    "    class_mode = 'categorical' \n",
    ")"
   ]
  },
  {
   "cell_type": "markdown",
   "id": "a0c8d8d1",
   "metadata": {},
   "source": [
    "## Callback"
   ]
  },
  {
   "cell_type": "code",
   "execution_count": 112,
   "id": "d29bc2f8",
   "metadata": {},
   "outputs": [],
   "source": [
    "# callback = tf.keras.callbacks.ModelCheckpoint(\n",
    "#     filepath='../scrapping/checkpoint',\n",
    "#     monitor='val_acc',\n",
    "#     mode='max',\n",
    "#     save_best_only=True)"
   ]
  },
  {
   "cell_type": "markdown",
   "id": "8312fec3",
   "metadata": {},
   "source": [
    "# Model Training"
   ]
  },
  {
   "cell_type": "code",
   "execution_count": 113,
   "id": "aaebffe5",
   "metadata": {},
   "outputs": [
    {
     "name": "stdout",
     "output_type": "stream",
     "text": [
      "Epoch 1/25\n",
      "89/89 - 56s - loss: 3.4105 - accuracy: 0.0476 - val_loss: 3.1562 - val_accuracy: 0.1000 - 56s/epoch - 626ms/step\n",
      "Epoch 2/25\n",
      "89/89 - 40s - loss: 3.1425 - accuracy: 0.0921 - val_loss: 3.0500 - val_accuracy: 0.1192 - 40s/epoch - 445ms/step\n",
      "Epoch 3/25\n",
      "89/89 - 40s - loss: 3.0271 - accuracy: 0.1214 - val_loss: 2.9691 - val_accuracy: 0.1423 - 40s/epoch - 455ms/step\n",
      "Epoch 4/25\n",
      "89/89 - 40s - loss: 2.8975 - accuracy: 0.1581 - val_loss: 2.8024 - val_accuracy: 0.2154 - 40s/epoch - 449ms/step\n",
      "Epoch 5/25\n",
      "89/89 - 39s - loss: 2.7841 - accuracy: 0.1900 - val_loss: 2.8097 - val_accuracy: 0.1962 - 39s/epoch - 444ms/step\n",
      "Epoch 6/25\n",
      "89/89 - 39s - loss: 2.6701 - accuracy: 0.2096 - val_loss: 2.5774 - val_accuracy: 0.2192 - 39s/epoch - 438ms/step\n",
      "Epoch 7/25\n",
      "89/89 - 39s - loss: 2.5528 - accuracy: 0.2507 - val_loss: 2.4189 - val_accuracy: 0.3077 - 39s/epoch - 434ms/step\n",
      "Epoch 8/25\n",
      "89/89 - 39s - loss: 2.4784 - accuracy: 0.2607 - val_loss: 2.3876 - val_accuracy: 0.3308 - 39s/epoch - 443ms/step\n",
      "Epoch 9/25\n",
      "89/89 - 39s - loss: 2.3753 - accuracy: 0.2904 - val_loss: 2.4162 - val_accuracy: 0.2923 - 39s/epoch - 442ms/step\n",
      "Epoch 10/25\n",
      "89/89 - 39s - loss: 2.3516 - accuracy: 0.3188 - val_loss: 2.3979 - val_accuracy: 0.2885 - 39s/epoch - 433ms/step\n",
      "Epoch 11/25\n",
      "89/89 - 38s - loss: 2.1861 - accuracy: 0.3454 - val_loss: 2.1234 - val_accuracy: 0.3885 - 38s/epoch - 432ms/step\n",
      "Epoch 12/25\n",
      "89/89 - 39s - loss: 2.1764 - accuracy: 0.3550 - val_loss: 1.9654 - val_accuracy: 0.4308 - 39s/epoch - 438ms/step\n",
      "Epoch 13/25\n",
      "89/89 - 40s - loss: 2.0744 - accuracy: 0.3729 - val_loss: 2.0597 - val_accuracy: 0.3885 - 40s/epoch - 444ms/step\n",
      "Epoch 14/25\n",
      "89/89 - 39s - loss: 2.0457 - accuracy: 0.3956 - val_loss: 1.8717 - val_accuracy: 0.4154 - 39s/epoch - 437ms/step\n",
      "Epoch 15/25\n",
      "89/89 - 39s - loss: 1.9568 - accuracy: 0.4105 - val_loss: 1.7469 - val_accuracy: 0.4654 - 39s/epoch - 438ms/step\n",
      "Epoch 16/25\n",
      "89/89 - 39s - loss: 1.8667 - accuracy: 0.4293 - val_loss: 1.7085 - val_accuracy: 0.5038 - 39s/epoch - 440ms/step\n",
      "Epoch 17/25\n",
      "89/89 - 39s - loss: 1.7892 - accuracy: 0.4703 - val_loss: 1.6169 - val_accuracy: 0.5038 - 39s/epoch - 440ms/step\n",
      "Epoch 18/25\n",
      "89/89 - 39s - loss: 1.7658 - accuracy: 0.4651 - val_loss: 1.5429 - val_accuracy: 0.5500 - 39s/epoch - 443ms/step\n",
      "Epoch 19/25\n",
      "89/89 - 39s - loss: 1.7169 - accuracy: 0.4795 - val_loss: 1.6513 - val_accuracy: 0.5038 - 39s/epoch - 436ms/step\n",
      "Epoch 20/25\n",
      "89/89 - 39s - loss: 1.6559 - accuracy: 0.4908 - val_loss: 1.6949 - val_accuracy: 0.4923 - 39s/epoch - 434ms/step\n",
      "Epoch 21/25\n",
      "89/89 - 39s - loss: 1.6025 - accuracy: 0.5175 - val_loss: 1.4377 - val_accuracy: 0.5846 - 39s/epoch - 435ms/step\n",
      "Epoch 22/25\n",
      "89/89 - 38s - loss: 1.5640 - accuracy: 0.5227 - val_loss: 1.4524 - val_accuracy: 0.5769 - 38s/epoch - 432ms/step\n",
      "Epoch 23/25\n",
      "89/89 - 38s - loss: 1.4885 - accuracy: 0.5415 - val_loss: 1.4620 - val_accuracy: 0.5462 - 38s/epoch - 432ms/step\n",
      "Epoch 24/25\n",
      "89/89 - 39s - loss: 1.4830 - accuracy: 0.5502 - val_loss: 1.4604 - val_accuracy: 0.5769 - 39s/epoch - 436ms/step\n",
      "Epoch 25/25\n",
      "89/89 - 41s - loss: 1.4239 - accuracy: 0.5616 - val_loss: 1.5185 - val_accuracy: 0.5500 - 41s/epoch - 457ms/step\n"
     ]
    }
   ],
   "source": [
    "history = model.fit(\n",
    "    train_generator,\n",
    "    steps_per_epoch= 2326//26,\n",
    "    epochs= 25,\n",
    "    validation_data=validation_generator,\n",
    "    validation_steps= 266//26,\n",
    "    verbose=2\n",
    "    #callbacks= [callback]\n",
    ")"
   ]
  },
  {
   "cell_type": "markdown",
   "id": "6430f31e",
   "metadata": {},
   "source": [
    "## Save the model"
   ]
  },
  {
   "cell_type": "code",
   "execution_count": 116,
   "id": "260b2a40",
   "metadata": {},
   "outputs": [
    {
     "name": "stderr",
     "output_type": "stream",
     "text": [
      "WARNING:absl:Found untraced functions such as _jit_compiled_convolution_op, _jit_compiled_convolution_op, _jit_compiled_convolution_op while saving (showing 3 of 3). These functions will not be directly callable after loading.\n"
     ]
    },
    {
     "name": "stdout",
     "output_type": "stream",
     "text": [
      "INFO:tensorflow:Assets written to: model-2022-05-18-17-56\\assets\n"
     ]
    },
    {
     "name": "stderr",
     "output_type": "stream",
     "text": [
      "INFO:tensorflow:Assets written to: model-2022-05-18-17-56\\assets\n"
     ]
    }
   ],
   "source": [
    "from datetime import datetime\n",
    "filename = datetime.now().strftime('model-%Y-%m-%d-%H-%M')\n",
    "\n",
    "model.save(filename)"
   ]
  },
  {
   "cell_type": "markdown",
   "id": "38a8c471",
   "metadata": {},
   "source": [
    "# Evaluation"
   ]
  },
  {
   "cell_type": "code",
   "execution_count": 150,
   "id": "5d050c08",
   "metadata": {},
   "outputs": [
    {
     "data": {
      "text/plain": [
       "Text(0.5, 1.0, 'Training and validation loss')"
      ]
     },
     "execution_count": 150,
     "metadata": {},
     "output_type": "execute_result"
    },
    {
     "data": {
      "image/png": "[encoded data removed]",
      "text/plain": [
       "<Figure size 432x288 with 1 Axes>"
      ]
     },
     "metadata": {
      "needs_background": "light"
     },
     "output_type": "display_data"
    },
    {
     "data": {
      "image/png": "[encoded data removed]",
      "text/plain": [
       "<Figure size 432x288 with 1 Axes>"
      ]
     },
     "metadata": {
      "needs_background": "light"
     },
     "output_type": "display_data"
    }
   ],
   "source": [
    "%matplotlib inline\n",
    "\n",
    "import matplotlib.image  as mpimg\n",
    "import matplotlib.pyplot as plt\n",
    "\n",
    "acc=history.history['accuracy']\n",
    "val_acc=history.history['val_accuracy']\n",
    "loss=history.history['loss']\n",
    "val_loss=history.history['val_loss']\n",
    "\n",
    "epochs=range(len(acc)) # Get number of epochs\n",
    "\n",
    "# Plot training and validation accuracy per epoch\n",
    "plt.plot(epochs, acc, 'r', label='Training accuracy')\n",
    "plt.plot(epochs, val_acc, 'b', label='Validation accuracy')\n",
    "plt.title('Training and validation accuracy')\n",
    "plt.legend(loc=0)\n",
    "plt.figure()\n",
    "\n",
    "# Plot training and validation loss per epoch\n",
    "plt.plot(epochs, loss, 'green', label='Training Loss')\n",
    "plt.plot(epochs, val_loss, 'purple', label='Training Loss')\n",
    "plt.legend(loc=0)\n",
    "\n",
    "plt.title('Training and validation loss')"
   ]
  },
  {
   "cell_type": "markdown",
   "id": "202200e9",
   "metadata": {},
   "source": [
    "## Catatan : \n",
    "- Epoch ditambah biar accuracy tambah tinggi"
   ]
  },
  {
   "cell_type": "markdown",
   "id": "ad91adbc",
   "metadata": {},
   "source": [
    "# Prediction"
   ]
  },
  {
   "cell_type": "markdown",
   "id": "b5932eb5",
   "metadata": {},
   "source": [
    "(Belum selesai)"
   ]
  },
  {
   "cell_type": "code",
   "execution_count": 136,
   "id": "83c1b4c3",
   "metadata": {},
   "outputs": [
    {
     "data": {
      "application/vnd.jupyter.widget-view+json": {
       "model_id": "45f11da53ddd433c87c1f847cfa12b03",
       "version_major": 2,
       "version_minor": 0
      },
      "text/plain": [
       "FileUpload(value={}, accept='.jpg', description='Upload', multiple=True)"
      ]
     },
     "metadata": {},
     "output_type": "display_data"
    }
   ],
   "source": [
    "# FileUpload widget in jupyter notebook\n",
    "from ipywidgets import FileUpload\n",
    "from IPython.display import display\n",
    "\n",
    "from keras.preprocessing import image\n",
    "import numpy as np\n",
    "\n",
    "upload = FileUpload(accept='.jpg', multiple=True)\n",
    "upload = display(upload)"
   ]
  },
  {
   "cell_type": "code",
   "execution_count": 138,
   "id": "34a17f5a",
   "metadata": {},
   "outputs": [],
   "source": [
    "# upload.value"
   ]
  },
  {
   "cell_type": "code",
   "execution_count": 139,
   "id": "7d822430",
   "metadata": {},
   "outputs": [],
   "source": [
    "# file = open(\"../scrapping/downloads/Beef Burger/0fed951fbf.jpg\", \"rb\")\n",
    "# image = file.read()\n",
    "# widgets.Image(\n",
    "#     value=image,\n",
    "#     format='png',\n",
    "#     width=300,\n",
    "#     height=400,\n",
    "# )"
   ]
  },
  {
   "cell_type": "code",
   "execution_count": 140,
   "id": "650ce124",
   "metadata": {},
   "outputs": [],
   "source": [
    "# for fn in upload: \n",
    "#   # predicting images\n",
    "#   path = fn\n",
    "#   img = image.load_img(path, target_size=(150, 150))\n",
    "#   x = image.img_to_array(img)\n",
    "#   x = np.expand_dims(x, axis=0)\n",
    "\n",
    "#   images = np.vstack([x])\n",
    "#   classes = model.predict(images, batch_size=10)\n",
    "#   print(fn)\n",
    "#   print(classes)"
   ]
  }
 ],
 "metadata": {
  "kernelspec": {
   "display_name": "Python 3 (ipykernel)",
   "language": "python",
   "name": "python3"
  },
  "language_info": {
   "codemirror_mode": {
    "name": "ipython",
    "version": 3
   },
   "file_extension": ".py",
   "mimetype": "text/x-python",
   "name": "python",
   "nbconvert_exporter": "python",
   "pygments_lexer": "ipython3",
   "version": "3.9.7"
  }
 },
 "nbformat": 4,
 "nbformat_minor": 5
}
