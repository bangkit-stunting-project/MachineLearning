{
 "cells": [
  {
   "cell_type": "code",
   "execution_count": 2,
   "metadata": {},
   "outputs": [],
   "source": [
    "import os "
   ]
  },
  {
   "cell_type": "code",
   "execution_count": 5,
   "metadata": {},
   "outputs": [],
   "source": [
    "image_path = './dataset-makanan-anak'\n",
    "list_dataset  = os.listdir(image_path)\n"
   ]
  },
  {
   "cell_type": "code",
   "execution_count": 6,
   "metadata": {},
   "outputs": [
    {
     "name": "stdout",
     "output_type": "stream",
     "text": [
      "Sup Krim Kentang 150\n",
      "Puree Nanas Segar 147\n",
      "Bubur Teri dan Bayam 149\n",
      "Bubur Hati Ayam, Brokoli, dan Edamame 150\n",
      "Sup Labu 150\n",
      "Puree Pisang dan Alpukat 150\n",
      "Sup Kentang Daging Kacang Merah 149\n",
      "Puree Alpukat dan Ubi Jalar 151\n",
      "Bubur Hati Ayam Edamame 151\n",
      "Puree Buah Naga 151\n",
      "Jagung Manis, Tahu dan Telur 150\n",
      "Puree Nasi Kentang Wortel 146\n",
      "Nasi Tim Ayam 148\n",
      "Nasi Tim Ikan Tuna 148\n",
      "Pusee Pisang Alpukat 151\n"
     ]
    }
   ],
   "source": [
    "for class_name in list_dataset :\n",
    "    path = os.path.join(image_path, class_name)\n",
    "    print (class_name , len(os.listdir(path)))"
   ]
  },
  {
   "cell_type": "code",
   "execution_count": 8,
   "metadata": {},
   "outputs": [
    {
     "name": "stdout",
     "output_type": "stream",
     "text": [
      "Bubur Ayam 170\n",
      "Ketoprak 173\n",
      "Mie Ayam 172\n",
      "Martabak Mesir 84\n",
      "Kalio Ayam 176\n",
      "Mie Bakso 171\n",
      "Beef Teriyaki 171\n"
     ]
    }
   ],
   "source": [
    "image_path = './dataset-makanan-ibu'\n",
    "list_dataset  = os.listdir(image_path)\n",
    "for class_name in list_dataset :\n",
    "    path = os.path.join(image_path, class_name)\n",
    "    print (class_name , len(os.listdir(path)))"
   ]
  },
  {
   "cell_type": "code",
   "execution_count": null,
   "metadata": {},
   "outputs": [],
   "source": []
  }
 ],
 "metadata": {
  "interpreter": {
   "hash": "54e7f89516f16e7beb76d37cd5420a5066ffcdff090d410ec29ba10c41cb7e9c"
  },
  "kernelspec": {
   "display_name": "Python 3.7.9 64-bit ('Project-Anya')",
   "language": "python",
   "name": "python3"
  },
  "language_info": {
   "codemirror_mode": {
    "name": "ipython",
    "version": 3
   },
   "file_extension": ".py",
   "mimetype": "text/x-python",
   "name": "python",
   "nbconvert_exporter": "python",
   "pygments_lexer": "ipython3",
   "version": "3.7.9"
  },
  "orig_nbformat": 4
 },
 "nbformat": 4,
 "nbformat_minor": 2
}
