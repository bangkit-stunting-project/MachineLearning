{
 "cells": [
  {
   "cell_type": "code",
   "execution_count": 2,
   "metadata": {},
   "outputs": [],
   "source": [
    "import os "
   ]
  },
  {
   "cell_type": "code",
   "execution_count": 5,
   "metadata": {},
   "outputs": [],
   "source": [
    "image_path = './dataset-makanan-anak'\n",
    "list_dataset  = os.listdir(image_path)\n"
   ]
  },
  {
   "cell_type": "code",
   "execution_count": 11,
   "metadata": {},
   "outputs": [
    {
     "name": "stdout",
     "output_type": "stream",
     "text": [
      "Bubur Ayam 170\n",
      "Soto Betawi 173\n",
      "Ketoprak 173\n",
      "Mie Ayam 172\n",
      "Karedok 177\n",
      "Chicken Teriyaki 171\n",
      "Nasi Rames 168\n",
      "Gado-Gado 174\n",
      "Rendang Sapi 172\n",
      "Martabak Mesir 169\n",
      "Mie Aceh Rebus 164\n",
      "Pempek Telur 175\n",
      "Soto Padang 163\n",
      "Beef Burger 166\n",
      "Ayam Taliwang 169\n",
      "Kalio Ayam 176\n",
      "Mie Bakso 171\n",
      "Sop Daging Sapi 175\n",
      "Mie Pangsit Basah 176\n",
      "Beef Teriyaki 171\n"
     ]
    }
   ],
   "source": [
    "for class_name in list_dataset :\n",
    "    path = os.path.join(image_path, class_name)\n",
    "    print (class_name , len(os.listdir(path)))"
   ]
  },
  {
   "cell_type": "code",
   "execution_count": 10,
   "metadata": {},
   "outputs": [
    {
     "name": "stdout",
     "output_type": "stream",
     "text": [
      "Bubur Ayam 170\n",
      "Soto Betawi 173\n",
      "Ketoprak 173\n",
      "Mie Ayam 172\n",
      "Karedok 177\n",
      "Chicken Teriyaki 171\n",
      "Nasi Rames 168\n",
      "Gado-Gado 174\n",
      "Rendang Sapi 172\n",
      "Martabak Mesir 169\n",
      "Mie Aceh Rebus 164\n",
      "Pempek Telur 175\n",
      "Soto Padang 163\n",
      "Beef Burger 166\n",
      "Ayam Taliwang 169\n",
      "Kalio Ayam 176\n",
      "Mie Bakso 171\n",
      "Sop Daging Sapi 175\n",
      "Mie Pangsit Basah 176\n",
      "Beef Teriyaki 171\n"
     ]
    }
   ],
   "source": [
    "image_path = './dataset-makanan-ibu'\n",
    "list_dataset  = os.listdir(image_path)\n",
    "for class_name in list_dataset :\n",
    "    path = os.path.join(image_path, class_name)\n",
    "    print (class_name , len(os.listdir(path)))"
   ]
  },
  {
   "cell_type": "code",
   "execution_count": null,
   "metadata": {},
   "outputs": [],
   "source": []
  }
 ],
 "metadata": {
  "interpreter": {
   "hash": "54e7f89516f16e7beb76d37cd5420a5066ffcdff090d410ec29ba10c41cb7e9c"
  },
  "kernelspec": {
   "display_name": "Python 3.7.9 64-bit ('Project-Anya')",
   "language": "python",
   "name": "python3"
  },
  "language_info": {
   "codemirror_mode": {
    "name": "ipython",
    "version": 3
   },
   "file_extension": ".py",
   "mimetype": "text/x-python",
   "name": "python",
   "nbconvert_exporter": "python",
   "pygments_lexer": "ipython3",
   "version": "3.7.9"
  },
  "orig_nbformat": 4
 },
 "nbformat": 4,
 "nbformat_minor": 2
}
